{
 "cells": [
  {
   "cell_type": "code",
   "execution_count": null,
   "id": "a09a9055",
   "metadata": {},
   "outputs": [],
   "source": [
    "import pandas as pd\n",
    "import numpy as np\n",
    "from sqlalchemy import create_engine"
   ]
  },
  {
   "cell_type": "code",
   "execution_count": null,
   "id": "94652aba",
   "metadata": {},
   "outputs": [],
   "source": [
    "df = pd.read_csv('cleaned-data.csv')\n",
    "df.head()"
   ]
  },
  {
   "cell_type": "markdown",
   "id": "004f8a0c",
   "metadata": {},
   "source": [
    "### Connecting to SQL Server"
   ]
  },
  {
   "cell_type": "code",
   "execution_count": null,
   "id": "9c376cb1",
   "metadata": {},
   "outputs": [],
   "source": [
    "# connection details\n",
    "server = 'ServerName'\n",
    "database = 'Amazon_DB'\n",
    "driver = 'ODBC Driver 17 for SQL Server'\n",
    "\n",
    "# Create a connection string\n",
    "connection_string = f'mssql+pyodbc://@{server}/{database}?driver={driver}&trusted_connection=yes'\n",
    "\n",
    "# Create an engine\n",
    "engine = create_engine(connection_string)\n",
    "\n",
    "# Save the DataFrame to the SQL Server table\n",
    "table_name = 'Data_Books'\n",
    "df.to_sql(table_name, engine, index=False)\n"
   ]
  }
 ],
 "metadata": {
  "kernelspec": {
   "display_name": "Python 3 (ipykernel)",
   "language": "python",
   "name": "python3"
  },
  "language_info": {
   "codemirror_mode": {
    "name": "ipython",
    "version": 3
   },
   "file_extension": ".py",
   "mimetype": "text/x-python",
   "name": "python",
   "nbconvert_exporter": "python",
   "pygments_lexer": "ipython3",
   "version": "3.8.13"
  }
 },
 "nbformat": 4,
 "nbformat_minor": 5
}
